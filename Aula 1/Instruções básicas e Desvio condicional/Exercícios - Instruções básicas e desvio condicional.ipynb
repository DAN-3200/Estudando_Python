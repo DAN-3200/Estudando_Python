{
 "cells": [
  {
   "cell_type": "markdown",
   "metadata": {
    "id": "Pi-CJIef1ul1"
   },
   "source": [
    "# Instruções básicas - Operações, Variáveis e Input"
   ]
  },
  {
   "cell_type": "markdown",
   "metadata": {
    "id": "FJ2bFoIx1umA"
   },
   "source": [
    "### Atividade 1 - Operações e Variáveis\n",
    "Crie um programa que imprima os principais indicadores da Loja \"Kratos Store\" no último ano.\n",
    "Obs: faça tudo usando variáveis.\n",
    "\n",
    "Valores do último ano:\n",
    "\n",
    "Quantidade de Vendas de Canecas Personalizadas = 120<br>\n",
    "Quantidade de Vendas de Garrafas Personalizadas = 75<br>\n",
    "Preço Unitário da Canecas Personalizadas = 12,00 <br>\n",
    "Preço Unitário da Garrafas Personalizadas = 18,50<br>\n",
    "Custo da Loja: 1.696,50\n",
    "\n",
    "Use o bloco abaixo para criar todas as variáveis que precisar."
   ]
  },
  {
   "cell_type": "code",
   "execution_count": null,
   "metadata": {
    "id": "8ou0OBBX1umC"
   },
   "outputs": [],
   "source": []
  },
  {
   "cell_type": "markdown",
   "metadata": {
    "id": "fW0kX-qN1umD"
   },
   "source": [
    "1. Qual foi o faturamento de Canecas Personalizadas da Loja?"
   ]
  },
  {
   "cell_type": "code",
   "execution_count": null,
   "metadata": {
    "id": "zsBMI5vg1umE"
   },
   "outputs": [],
   "source": []
  },
  {
   "cell_type": "markdown",
   "metadata": {
    "id": "xgxOvmRz1umF"
   },
   "source": [
    "2. Qual foi o faturamento de Garrafas Personalizadas da Loja?"
   ]
  },
  {
   "cell_type": "code",
   "execution_count": null,
   "metadata": {
    "id": "NpsI_giv1umG"
   },
   "outputs": [],
   "source": []
  },
  {
   "cell_type": "markdown",
   "metadata": {
    "id": "8D_0mYbI1umH"
   },
   "source": [
    "3. Qual foi o Lucro da loja?"
   ]
  },
  {
   "cell_type": "code",
   "execution_count": null,
   "metadata": {
    "id": "doMwJLC-1umI"
   },
   "outputs": [],
   "source": []
  },
  {
   "cell_type": "markdown",
   "metadata": {
    "id": "bdua5-Ct1umJ"
   },
   "source": [
    "4. Qual foi a Margem da Loja? (Lembre-se, margem = Lucro / Faturamento). Não precisa formatar em percentual"
   ]
  },
  {
   "cell_type": "code",
   "execution_count": null,
   "metadata": {
    "id": "ySAB6BNL1umK"
   },
   "outputs": [],
   "source": []
  },
  {
   "cell_type": "markdown",
   "metadata": {
    "id": "D1mYymiP1umL"
   },
   "source": [
    "### Atividade 2 - Inputs e Strings"
   ]
  },
  {
   "cell_type": "markdown",
   "metadata": {
    "id": "mcbTaP8b1umN"
   },
   "source": [
    "A maioria das empresas trabalham com um Código para cada produto que possuem. A Kratos Store, por exemplo, tem mais de 1.000 produtos e possui um código para cada produto.\n",
    "Ex: \n",
    "Caneca Simples -> Código: CNC1300543<br>\n",
    "Caneca Personalizada -> Código: CNC1300545<br>\n",
    "Garrafa Simples -> Código: GRF1546001<br>\n",
    "Garrafa Personalizada-> Código: GRF17675002<br>\n",
    "\n",
    "Repare que todas as canecas tem o início do Código \"CNC\" e todas as garrafas tem o início do código \"GRF\".\n",
    "\n",
    "Crie um programa de consulta de produto que, dado um código qualquer, identifique se o produto é uma caneca. O programa deve responder True para caneca e False para garrafa. Para inserir um código, use um input.\n",
    "\n",
    "Dica: Lembre-se do comando in para strings e sempre insira os códigos com letra maiúscula para facilitar."
   ]
  },
  {
   "cell_type": "code",
   "execution_count": null,
   "metadata": {
    "id": "IUrYt1hs1umQ"
   },
   "outputs": [],
   "source": []
  },
  {
   "cell_type": "markdown",
   "metadata": {},
   "source": [
    "# Desvio Condicional - if, else, elif"
   ]
  },
  {
   "cell_type": "markdown",
   "metadata": {},
   "source": [
    "## Atividade 3. Cálculo de Bônus\n",
    "\n",
    "- Crie um programa que calcule e dê um print no bônus que os funcionários da Kratos Store devem receber segundo a regra:\n",
    "\n",
    "A meta de vendas é R$ 1000.<br> \n",
    "Se o valor de vendas for maior ou igual a meta, o valor do bônus do funcionário é 10% do valor de vendas.<br>\n",
    "Caso contrário o valor de bônus do funcionário é 0.<br>\n",
    "Print o bônus dos 3 funcionários"
   ]
  },
  {
   "cell_type": "code",
   "execution_count": null,
   "metadata": {},
   "outputs": [],
   "source": [
    "vendas_funcionario1 = 1000\n",
    "vendas_funcionario2 = 770\n",
    "vendas_funcionario3 = 2700\n",
    "\n",
    "#crie seu código aqui"
   ]
  },
  {
   "cell_type": "raw",
   "metadata": {},
   "source": [
    "Resposta esperada:\n",
    "O funcionário 1 ganhou 100 de bônus\n",
    "O funcionário 2 ganhou 0 de bônus\n",
    "O funcionário 3 ganhou 270 de bônus"
   ]
  },
  {
   "cell_type": "markdown",
   "metadata": {},
   "source": [
    "## Atividade 4. Cálculo de bônus com uma nova regra\n",
    "\n",
    "- Agora, crie um novo código que calcule e dê um print no bônus dos funcionários novamente. Porém há uma nova regra nesse 2º caso:\n",
    "\n",
    "A meta é 1000 vendas<br>\n",
    "Agora, os funcionários que venderem muito acima da meta ganham mais bônus do que os outros. Então o bônus é definido da seguinte forma:<br>\n",
    "\n",
    "- Se vendas funcionário for maior ou igual a 2000, então o bônus é de 15% sobre o valor de vendas\n",
    "- Se vendas funcionário for menor do que 2000 e maior ou igual a 1000, então o bônus é de 10% sobre o valor de vendas\n",
    "- Se vendas funcionário for menos do que 1000 então o bônus do funcionário é de 0.\n",
    "\n",
    "Use as mesmas variáveis de vendas_funcionários"
   ]
  },
  {
   "cell_type": "code",
   "execution_count": null,
   "metadata": {},
   "outputs": [],
   "source": [
    "#crie seu código aqui\n",
    "#obs: há 2 formas de fazer, com if dentro de if ou então com if e elif. Escolha a que você preferir"
   ]
  },
  {
   "cell_type": "raw",
   "metadata": {},
   "source": [
    "Resposta:\n",
    "O funcionário 1 ganhou 100 de bônus\n",
    "O funcionário 2 ganhou 0 de bônus\n",
    "O funcionário 3 ganhou 405 de bônus"
   ]
  },
  {
   "cell_type": "markdown",
   "metadata": {},
   "source": [
    "## Atividade 5. Criando um mini sistema de controle de estoque\n",
    "\n",
    "- Crie um sistema para ser usado pelo time de controle de estoque de um centro de distribuição.\n",
    "- Imagine que ao fim de todo dia, o time conta quantas unidades de produto existem no estoque. Se tivermos um estoque abaixo do estoque permitido para aquela categoria do produto, o time deve ser avisado (print) para fazer um novo pedido daquele produto.\n",
    "- Cada categoria de produto tem um estoque mínimo diferente, segundo a regra abaixo:\n",
    "\n",
    "- alimentos -> Estoque mínimo: 50\n",
    "- bebidas -> Estoque mínimo: 75\n",
    "- limpeza -> Estoque mínimo: 30\n",
    "\n",
    "Para isso vamos criar um programa que pede 3 inputs do usuário: nome do produto, categoria e quantidade atual em estoque.\n",
    "\n",
    "Se o produto tiver abaixo do estoque mínimo da categoria dele, o programa deve printar a mensagem \"Solicitar {produto} à equipe de compras, temos apenas {unidades} em estoque\"\n",
    "\n",
    "Exemplo: Se o usuário preenche os inputs com: bebidas, dolly, 90, o programa não deve exibir nenhuma mensagem.<br>\n",
    "Agora, se o usuário preenche os inputs com: bebidas, guaraná, 60, o programa deve exibir a mensagem \"Solicitar guaraná à equipe de compras, temos apenas 60 unidades em estoque.\n",
    "\n",
    "Obs: lembre de usar o int() para transformar o número inserido pelo usuário no input de string para int.<br>\n",
    "Obs2: Caso o usuário não preencha alguma das 3 informações, o programa deve exibir uma mensagem para avisá-lo de preencher corretamente."
   ]
  },
  {
   "cell_type": "code",
   "execution_count": null,
   "metadata": {},
   "outputs": [],
   "source": []
  }
 ],
 "metadata": {
  "colab": {
   "provenance": []
  },
  "kernelspec": {
   "display_name": "Python 3 (ipykernel)",
   "language": "python",
   "name": "python3"
  },
  "language_info": {
   "codemirror_mode": {
    "name": "ipython",
    "version": 3
   },
   "file_extension": ".py",
   "mimetype": "text/x-python",
   "name": "python",
   "nbconvert_exporter": "python",
   "pygments_lexer": "ipython3",
   "version": "3.9.13"
  }
 },
 "nbformat": 4,
 "nbformat_minor": 1
}
