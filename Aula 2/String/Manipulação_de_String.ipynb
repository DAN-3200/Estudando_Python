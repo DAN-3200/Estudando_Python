{
 "cells": [
  {
   "cell_type": "markdown",
   "id": "18c79ad8",
   "metadata": {},
   "source": [
    "# Manipulação de String"
   ]
  },
  {
   "cell_type": "raw",
   "id": "fd7e6db2",
   "metadata": {},
   "source": [
    "No Python, uma String é um objeto composto por uma Lista de Caracteres.\n",
    "Cada Caractere é identificado por um índice.\n",
    "Pegar um item da String - texto[indice]\n",
    "Tamanho de uma String - função len(texto)\n",
    "Indice pode ser tratado como numero positivo ou negativo\n",
    "    \t\n",
    "    Indice positivo vai de 0 até n\t\t 0  1  2  3  4  5  6  7\n",
    "       \t\t\t\t\t\t\t\t\t P  H  I  L  L  I  P  E\t\n",
    "\tIndice negativo vai de -n até -1\t-8 -7 -6 -5 -4 -3 -2 -1\n",
    "    \n",
    "Pegar pedaço de uma string com o caractere “:” no índice\n",
    "\ttexto[:indice] \n",
    "    texto[indice:] \n",
    "    texto[indice:indice]"
   ]
  },
  {
   "cell_type": "code",
   "execution_count": null,
   "id": "08c57e91",
   "metadata": {},
   "outputs": [],
   "source": [
    "email = 'phillipe@gmail.com'\n",
    "nome = 'Phillipe Brandão'"
   ]
  },
  {
   "cell_type": "code",
   "execution_count": null,
   "id": "6d697bf0",
   "metadata": {},
   "outputs": [],
   "source": [
    "tamanho = len(email)\n",
    "print('Tamanho do e-mail {} caracteres'.format(tamanho))\n",
    "print('Primeiro Caractere ' + '?')\n",
    "print('Último Caractere ' + '?')\n",
    "print('Servidor do email ' + '?')"
   ]
  },
  {
   "cell_type": "markdown",
   "id": "7a67ecf5",
   "metadata": {},
   "source": [
    "# Operações com String\n",
    "\n",
    "str -> transforma número em string<br>\n",
    "in -> verifica se um texto está contido dentro do outro<br>\n",
    "operador + -> concatenar string<br>\n",
    "format e {} -> substitui valores<br>\n",
    "%s -> substitui textos<br>\n",
    "%d -> substitui números decimais<br>"
   ]
  },
  {
   "cell_type": "code",
   "execution_count": null,
   "id": "f9324f2e",
   "metadata": {},
   "outputs": [],
   "source": [
    "faturamento = 1000\n",
    "custo = 500\n",
    "lucro = faturamento - custo"
   ]
  },
  {
   "cell_type": "markdown",
   "id": "ff23e4af",
   "metadata": {},
   "source": [
    "Uso do str() e do concatenar com +"
   ]
  },
  {
   "cell_type": "code",
   "execution_count": null,
   "id": "5d649033",
   "metadata": {},
   "outputs": [],
   "source": [
    "print ('O faturamento da loja foi de: ' + faturamento)"
   ]
  },
  {
   "cell_type": "markdown",
   "id": "6f23ce3b",
   "metadata": {},
   "source": [
    "Uso do Format"
   ]
  },
  {
   "cell_type": "code",
   "execution_count": null,
   "id": "967259cd",
   "metadata": {},
   "outputs": [],
   "source": [
    "print('O faturamento foi de: ')"
   ]
  },
  {
   "cell_type": "markdown",
   "id": "b875cae7",
   "metadata": {},
   "source": [
    "Uso do %s e %d"
   ]
  },
  {
   "cell_type": "code",
   "execution_count": null,
   "id": "adf73dd5",
   "metadata": {},
   "outputs": [],
   "source": [
    "print ('O faturamento foi de: ')"
   ]
  },
  {
   "cell_type": "markdown",
   "id": "493fb0eb",
   "metadata": {},
   "source": [
    "Uso do in "
   ]
  },
  {
   "cell_type": "code",
   "execution_count": null,
   "id": "6ac21680",
   "metadata": {},
   "outputs": [],
   "source": [
    "print('@' in 'phillipe@gmail.com')\n",
    "print('@' in 'phillipe.gmail.com')"
   ]
  }
 ],
 "metadata": {
  "kernelspec": {
   "display_name": "Python 3 (ipykernel)",
   "language": "python",
   "name": "python3"
  },
  "language_info": {
   "codemirror_mode": {
    "name": "ipython",
    "version": 3
   },
   "file_extension": ".py",
   "mimetype": "text/x-python",
   "name": "python",
   "nbconvert_exporter": "python",
   "pygments_lexer": "ipython3",
   "version": "3.9.13"
  }
 },
 "nbformat": 4,
 "nbformat_minor": 5
}
